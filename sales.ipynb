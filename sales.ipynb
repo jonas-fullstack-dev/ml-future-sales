{
 "cells": [
  {
   "cell_type": "markdown",
   "metadata": {},
   "source": [
    "# Application of ARIMA, LSTM and PROPHET for Future Sales Prediction"
   ]
  },
  {
   "cell_type": "markdown",
   "metadata": {},
   "source": [
    "This Jupyter notebook is based on the following Medium article: https://medium.com/analytics-vidhya/time-series-forecasting-arima-vs-lstm-vs-prophet-62241c203a3b\n",
    "\n",
    "The algorithms ARIMA, LSTM and Facebook PROPHET are applied to the Kaggle dataset \"Predict Future Sales\" and compared. "
   ]
  },
  {
   "cell_type": "markdown",
   "metadata": {},
   "source": [
    "## Imports"
   ]
  },
  {
   "cell_type": "code",
   "execution_count": 3,
   "metadata": {},
   "outputs": [],
   "source": [
    "import pandas as pd\n",
    "import numpy as np\n",
    "\n",
    "import matplotlib.pyplot as plt\n",
    "\n",
    "import pmdarima\n",
    "import statsmodels.tsa.api as smt\n",
    "\n",
    "from tensorflow.keras import models, layers, preprocessing as kprocessing\n",
    "\n",
    "from fbprophet import Prophet"
   ]
  },
  {
   "cell_type": "markdown",
   "metadata": {},
   "source": [
    "## Explorative Data Analysis"
   ]
  },
  {
   "cell_type": "markdown",
   "metadata": {},
   "source": [
    "### Parsing"
   ]
  },
  {
   "cell_type": "code",
   "execution_count": 4,
   "metadata": {},
   "outputs": [],
   "source": [
    "# Read in CSV from disk\n",
    "df = pd.read_csv('data/sales_data.csv')"
   ]
  },
  {
   "cell_type": "code",
   "execution_count": 5,
   "metadata": {},
   "outputs": [
    {
     "data": {
      "text/plain": [
       "(2935849, 6)"
      ]
     },
     "execution_count": 5,
     "metadata": {},
     "output_type": "execute_result"
    }
   ],
   "source": [
    "# Verfy shape of the dataframe\n",
    "df.shape"
   ]
  },
  {
   "cell_type": "code",
   "execution_count": 6,
   "metadata": {},
   "outputs": [
    {
     "data": {
      "text/html": [
       "<div>\n",
       "<style scoped>\n",
       "    .dataframe tbody tr th:only-of-type {\n",
       "        vertical-align: middle;\n",
       "    }\n",
       "\n",
       "    .dataframe tbody tr th {\n",
       "        vertical-align: top;\n",
       "    }\n",
       "\n",
       "    .dataframe thead th {\n",
       "        text-align: right;\n",
       "    }\n",
       "</style>\n",
       "<table border=\"1\" class=\"dataframe\">\n",
       "  <thead>\n",
       "    <tr style=\"text-align: right;\">\n",
       "      <th></th>\n",
       "      <th>date</th>\n",
       "      <th>date_block_num</th>\n",
       "      <th>shop_id</th>\n",
       "      <th>item_id</th>\n",
       "      <th>item_price</th>\n",
       "      <th>item_cnt_day</th>\n",
       "    </tr>\n",
       "  </thead>\n",
       "  <tbody>\n",
       "    <tr>\n",
       "      <th>0</th>\n",
       "      <td>02.01.2013</td>\n",
       "      <td>0</td>\n",
       "      <td>59</td>\n",
       "      <td>22154</td>\n",
       "      <td>999.00</td>\n",
       "      <td>1.0</td>\n",
       "    </tr>\n",
       "    <tr>\n",
       "      <th>1</th>\n",
       "      <td>03.01.2013</td>\n",
       "      <td>0</td>\n",
       "      <td>25</td>\n",
       "      <td>2552</td>\n",
       "      <td>899.00</td>\n",
       "      <td>1.0</td>\n",
       "    </tr>\n",
       "    <tr>\n",
       "      <th>2</th>\n",
       "      <td>05.01.2013</td>\n",
       "      <td>0</td>\n",
       "      <td>25</td>\n",
       "      <td>2552</td>\n",
       "      <td>899.00</td>\n",
       "      <td>-1.0</td>\n",
       "    </tr>\n",
       "    <tr>\n",
       "      <th>3</th>\n",
       "      <td>06.01.2013</td>\n",
       "      <td>0</td>\n",
       "      <td>25</td>\n",
       "      <td>2554</td>\n",
       "      <td>1709.05</td>\n",
       "      <td>1.0</td>\n",
       "    </tr>\n",
       "    <tr>\n",
       "      <th>4</th>\n",
       "      <td>15.01.2013</td>\n",
       "      <td>0</td>\n",
       "      <td>25</td>\n",
       "      <td>2555</td>\n",
       "      <td>1099.00</td>\n",
       "      <td>1.0</td>\n",
       "    </tr>\n",
       "  </tbody>\n",
       "</table>\n",
       "</div>"
      ],
      "text/plain": [
       "         date  date_block_num  shop_id  item_id  item_price  item_cnt_day\n",
       "0  02.01.2013               0       59    22154      999.00           1.0\n",
       "1  03.01.2013               0       25     2552      899.00           1.0\n",
       "2  05.01.2013               0       25     2552      899.00          -1.0\n",
       "3  06.01.2013               0       25     2554     1709.05           1.0\n",
       "4  15.01.2013               0       25     2555     1099.00           1.0"
      ]
     },
     "execution_count": 6,
     "metadata": {},
     "output_type": "execute_result"
    }
   ],
   "source": [
    "df.head(n=5)"
   ]
  },
  {
   "cell_type": "code",
   "execution_count": 7,
   "metadata": {},
   "outputs": [
    {
     "data": {
      "text/html": [
       "<div>\n",
       "<style scoped>\n",
       "    .dataframe tbody tr th:only-of-type {\n",
       "        vertical-align: middle;\n",
       "    }\n",
       "\n",
       "    .dataframe tbody tr th {\n",
       "        vertical-align: top;\n",
       "    }\n",
       "\n",
       "    .dataframe thead th {\n",
       "        text-align: right;\n",
       "    }\n",
       "</style>\n",
       "<table border=\"1\" class=\"dataframe\">\n",
       "  <thead>\n",
       "    <tr style=\"text-align: right;\">\n",
       "      <th></th>\n",
       "      <th>date</th>\n",
       "      <th>date_block_num</th>\n",
       "      <th>shop_id</th>\n",
       "      <th>item_id</th>\n",
       "      <th>item_price</th>\n",
       "      <th>item_cnt_day</th>\n",
       "    </tr>\n",
       "  </thead>\n",
       "  <tbody>\n",
       "    <tr>\n",
       "      <th>2935844</th>\n",
       "      <td>10.10.2015</td>\n",
       "      <td>33</td>\n",
       "      <td>25</td>\n",
       "      <td>7409</td>\n",
       "      <td>299.0</td>\n",
       "      <td>1.0</td>\n",
       "    </tr>\n",
       "    <tr>\n",
       "      <th>2935845</th>\n",
       "      <td>09.10.2015</td>\n",
       "      <td>33</td>\n",
       "      <td>25</td>\n",
       "      <td>7460</td>\n",
       "      <td>299.0</td>\n",
       "      <td>1.0</td>\n",
       "    </tr>\n",
       "    <tr>\n",
       "      <th>2935846</th>\n",
       "      <td>14.10.2015</td>\n",
       "      <td>33</td>\n",
       "      <td>25</td>\n",
       "      <td>7459</td>\n",
       "      <td>349.0</td>\n",
       "      <td>1.0</td>\n",
       "    </tr>\n",
       "    <tr>\n",
       "      <th>2935847</th>\n",
       "      <td>22.10.2015</td>\n",
       "      <td>33</td>\n",
       "      <td>25</td>\n",
       "      <td>7440</td>\n",
       "      <td>299.0</td>\n",
       "      <td>1.0</td>\n",
       "    </tr>\n",
       "    <tr>\n",
       "      <th>2935848</th>\n",
       "      <td>03.10.2015</td>\n",
       "      <td>33</td>\n",
       "      <td>25</td>\n",
       "      <td>7460</td>\n",
       "      <td>299.0</td>\n",
       "      <td>1.0</td>\n",
       "    </tr>\n",
       "  </tbody>\n",
       "</table>\n",
       "</div>"
      ],
      "text/plain": [
       "               date  date_block_num  shop_id  item_id  item_price  \\\n",
       "2935844  10.10.2015              33       25     7409       299.0   \n",
       "2935845  09.10.2015              33       25     7460       299.0   \n",
       "2935846  14.10.2015              33       25     7459       349.0   \n",
       "2935847  22.10.2015              33       25     7440       299.0   \n",
       "2935848  03.10.2015              33       25     7460       299.0   \n",
       "\n",
       "         item_cnt_day  \n",
       "2935844           1.0  \n",
       "2935845           1.0  \n",
       "2935846           1.0  \n",
       "2935847           1.0  \n",
       "2935848           1.0  "
      ]
     },
     "execution_count": 7,
     "metadata": {},
     "output_type": "execute_result"
    }
   ],
   "source": [
    "df.tail(n=5)"
   ]
  },
  {
   "cell_type": "markdown",
   "metadata": {},
   "source": [
    "### Reshaping"
   ]
  },
  {
   "cell_type": "code",
   "execution_count": 8,
   "metadata": {},
   "outputs": [],
   "source": [
    "# We only want to use the data and the number of products sold --> delete the other features\n",
    "df['date'] = pd.to_datetime(df['date'], format='%d.%m.%Y')"
   ]
  },
  {
   "cell_type": "code",
   "execution_count": 9,
   "metadata": {},
   "outputs": [],
   "source": [
    "df = df.groupby('date')['item_cnt_day'].sum().rename('sales')"
   ]
  },
  {
   "cell_type": "code",
   "execution_count": 10,
   "metadata": {},
   "outputs": [
    {
     "data": {
      "text/plain": [
       "date\n",
       "2013-01-01    1951.0\n",
       "2013-01-02    8198.0\n",
       "2013-01-03    7422.0\n",
       "2013-01-04    6617.0\n",
       "2013-01-05    6346.0\n",
       "Name: sales, dtype: float64"
      ]
     },
     "execution_count": 10,
     "metadata": {},
     "output_type": "execute_result"
    }
   ],
   "source": [
    "df.head()"
   ]
  },
  {
   "cell_type": "markdown",
   "metadata": {},
   "source": [
    "### Verification of data types"
   ]
  },
  {
   "cell_type": "code",
   "execution_count": 11,
   "metadata": {},
   "outputs": [
    {
     "data": {
      "text/plain": [
       "dtype('float64')"
      ]
     },
     "execution_count": 11,
     "metadata": {},
     "output_type": "execute_result"
    }
   ],
   "source": [
    "df.dtypes"
   ]
  },
  {
   "cell_type": "markdown",
   "metadata": {},
   "source": [
    "### Duplicates"
   ]
  },
  {
   "cell_type": "code",
   "execution_count": 12,
   "metadata": {},
   "outputs": [
    {
     "data": {
      "text/plain": [
       "True"
      ]
     },
     "execution_count": 12,
     "metadata": {},
     "output_type": "execute_result"
    }
   ],
   "source": [
    "df.duplicated().any()"
   ]
  },
  {
   "cell_type": "code",
   "execution_count": 13,
   "metadata": {},
   "outputs": [
    {
     "data": {
      "text/plain": [
       "date\n",
       "2013-01-04    6617.0\n",
       "2013-01-14    2595.0\n",
       "2013-01-21    2636.0\n",
       "2013-01-22    2775.0\n",
       "2013-01-24    3016.0\n",
       "2013-01-29    2764.0\n",
       "2013-02-01    3817.0\n",
       "2013-02-03    5068.0\n",
       "2013-02-04    2330.0\n",
       "2013-02-05    3302.0\n",
       "2013-02-27    3014.0\n",
       "2013-03-18    3113.0\n",
       "2013-03-26    3914.0\n",
       "2013-03-27    3673.0\n",
       "2013-03-30    6617.0\n",
       "2013-04-03    2579.0\n",
       "2013-04-08    2506.0\n",
       "2013-04-11    3315.0\n",
       "2013-04-15    2508.0\n",
       "2013-04-18    2728.0\n",
       "2013-04-30    3914.0\n",
       "2013-05-03    3914.0\n",
       "2013-05-10    3435.0\n",
       "2013-05-14    1964.0\n",
       "2013-05-15    2506.0\n",
       "2013-05-20    2712.0\n",
       "2013-05-23    3054.0\n",
       "2013-05-24    4068.0\n",
       "2013-06-03    3239.0\n",
       "2013-06-05    3418.0\n",
       "2013-06-17    3421.0\n",
       "2013-06-19    3315.0\n",
       "2013-06-28    3994.0\n",
       "2013-07-01    3391.0\n",
       "2013-07-04    3630.0\n",
       "2013-07-07    4666.0\n",
       "2013-07-09    3237.0\n",
       "2013-07-15    3145.0\n",
       "2013-07-23    3448.0\n",
       "2013-07-25    3436.0\n",
       "2013-07-27    5227.0\n",
       "2013-07-30    3501.0\n",
       "2013-08-01    3218.0\n",
       "2013-08-04    4297.0\n",
       "2013-08-05    3435.0\n",
       "2013-08-06    3237.0\n",
       "2013-08-07    3673.0\n",
       "2013-08-14    3218.0\n",
       "2013-08-15    3632.0\n",
       "2013-08-20    3448.0\n",
       "Name: sales, dtype: float64"
      ]
     },
     "execution_count": 13,
     "metadata": {},
     "output_type": "execute_result"
    }
   ],
   "source": [
    "df[df.duplicated(keep=False)].head(n=50)"
   ]
  },
  {
   "cell_type": "markdown",
   "metadata": {},
   "source": [
    "### Missing Values"
   ]
  },
  {
   "cell_type": "code",
   "execution_count": 14,
   "metadata": {},
   "outputs": [
    {
     "data": {
      "text/plain": [
       "False"
      ]
     },
     "execution_count": 14,
     "metadata": {},
     "output_type": "execute_result"
    }
   ],
   "source": [
    "df.isna().any()"
   ]
  },
  {
   "cell_type": "markdown",
   "metadata": {},
   "source": [
    "### Data Ranges"
   ]
  },
  {
   "cell_type": "code",
   "execution_count": 15,
   "metadata": {},
   "outputs": [
    {
     "data": {
      "text/plain": [
       "count     1034.000000\n",
       "mean      3528.245648\n",
       "std       1584.687467\n",
       "min       1274.000000\n",
       "25%       2472.250000\n",
       "50%       3145.000000\n",
       "75%       4257.000000\n",
       "max      13343.000000\n",
       "Name: sales, dtype: float64"
      ]
     },
     "execution_count": 15,
     "metadata": {},
     "output_type": "execute_result"
    }
   ],
   "source": [
    "df.describe()"
   ]
  },
  {
   "cell_type": "markdown",
   "metadata": {},
   "source": [
    "### Visualization"
   ]
  },
  {
   "cell_type": "code",
   "execution_count": 16,
   "metadata": {},
   "outputs": [
    {
     "data": {
      "text/plain": [
       "<AxesSubplot:title={'center':'Number of sold products per day'}, xlabel='date'>"
      ]
     },
     "execution_count": 16,
     "metadata": {},
     "output_type": "execute_result"
    },
    {
     "data": {
      "image/png": "[encoded data removed]",
      "text/plain": [
       "<Figure size 432x288 with 1 Axes>"
      ]
     },
     "metadata": {
      "needs_background": "light"
     },
     "output_type": "display_data"
    }
   ],
   "source": [
    "df.plot(title=\"Number of sold products per day\")"
   ]
  },
  {
   "cell_type": "markdown",
   "metadata": {},
   "source": [
    "### Outliers"
   ]
  },
  {
   "cell_type": "code",
   "execution_count": 17,
   "metadata": {},
   "outputs": [
    {
     "data": {
      "image/png": "[encoded data removed]",
      "text/plain": [
       "<Figure size 1296x2160 with 14 Axes>"
      ]
     },
     "metadata": {
      "needs_background": "light"
     },
     "output_type": "display_data"
    }
   ],
   "source": [
    "_ = df.plot(kind='box', subplots=True, layout=(7, 2), figsize=(18, 30), sharex=False)"
   ]
  },
  {
   "cell_type": "code",
   "execution_count": 18,
   "metadata": {},
   "outputs": [
    {
     "data": {
      "text/plain": [
       "date\n",
       "2013-12-28    13343.0\n",
       "2014-12-30    13236.0\n",
       "2013-12-29    12863.0\n",
       "2013-12-30    12823.0\n",
       "2014-12-31    11394.0\n",
       "Name: sales, dtype: float64"
      ]
     },
     "execution_count": 18,
     "metadata": {},
     "output_type": "execute_result"
    }
   ],
   "source": [
    "# Find top 5 values --> they are all at the end of a year (companies buy the software for the next year)\n",
    "df.nlargest(n=5)"
   ]
  },
  {
   "cell_type": "markdown",
   "metadata": {},
   "source": [
    "## Data Preprocessing"
   ]
  },
  {
   "cell_type": "markdown",
   "metadata": {},
   "source": [
    "### Train / Test Split"
   ]
  },
  {
   "cell_type": "code",
   "execution_count": 19,
   "metadata": {},
   "outputs": [],
   "source": [
    "def split_train_test(dataframe, test=0.2, plot=True, figsize=(15,5)):\n",
    "    if type(test) is float:\n",
    "        split = int(len(dataframe) * (1-test))\n",
    "        perc = test\n",
    "    elif type(test) is str:\n",
    "        split = dataframe.reset_index()[ \n",
    "                      dataframe.reset_index().iloc[:,0]==test].index[0]\n",
    "        perc = round(len(dataframe[split:])/len(dataframe), 2)\n",
    "    else:\n",
    "        split = test\n",
    "        perc = round(len(dataframe[split:])/len(dataframe), 2)\n",
    "\n",
    "    train = dataframe.head(split)\n",
    "    test = dataframe.tail(len(dataframe) - split)\n",
    "    \n",
    "    if plot is True:\n",
    "        fig, ax = plt.subplots(nrows=1, ncols=2, sharex=False, \n",
    "                               sharey=True, figsize=figsize)\n",
    "        train.plot(ax=ax[0], grid=True, title=\"Train\", \n",
    "                      color=\"black\")\n",
    "        test.plot(ax=ax[1], grid=True, title=\"Test\", \n",
    "                     color=\"black\")\n",
    "        ax[0].set(xlabel=None)\n",
    "        ax[1].set(xlabel=None)\n",
    "        plt.show()\n",
    "        \n",
    "    return train, test"
   ]
  },
  {
   "cell_type": "code",
   "execution_count": 20,
   "metadata": {},
   "outputs": [
    {
     "data": {
      "image/png": "[encoded data removed]",
      "text/plain": [
       "<Figure size 1080x360 with 2 Axes>"
      ]
     },
     "metadata": {
      "needs_background": "light"
     },
     "output_type": "display_data"
    }
   ],
   "source": [
    "train, test = split_train_test(df, test=\"2015-06-01\")"
   ]
  },
  {
   "cell_type": "markdown",
   "metadata": {},
   "source": [
    "## Models"
   ]
  },
  {
   "cell_type": "markdown",
   "metadata": {},
   "source": [
    "### ARIMA"
   ]
  },
  {
   "cell_type": "code",
   "execution_count": 23,
   "metadata": {},
   "outputs": [
    {
     "name": "stdout",
     "output_type": "stream",
     "text": [
      "best model is (p, d, q): (2, 1, 0)  and  (P, D, Q, s): (5, 0, 1, 7)\n"
     ]
    }
   ],
   "source": [
    "# Find best parameters of ARIMA\n",
    "best_model = pmdarima.auto_arima(df, seasonal=True, stationary=False, \n",
    "                                m=7, information_criterion='aic', max_order=20, max_p=10, \n",
    "                                max_d=3, max_q=10, max_P=10, max_D=3, max_Q=10, error_action='ignore')\n",
    "\n",
    "print(\"best model is (p, d, q):\", best_model.order, \" and  (P, D, Q, s):\", best_model.seasonal_order)"
   ]
  },
  {
   "cell_type": "code",
   "execution_count": null,
   "metadata": {},
   "outputs": [],
   "source": []
  },
  {
   "cell_type": "markdown",
   "metadata": {},
   "source": [
    "### LSTM"
   ]
  },
  {
   "cell_type": "markdown",
   "metadata": {},
   "source": [
    "### PROPHET"
   ]
  },
  {
   "cell_type": "markdown",
   "metadata": {},
   "source": [
    "## Evaluation"
   ]
  },
  {
   "cell_type": "code",
   "execution_count": null,
   "metadata": {},
   "outputs": [],
   "source": [
    "def evaluate_model(df, title, plot=True, figsize=(20,13)):\n",
    "    try:\n",
    "        ## Residuals\n",
    "        df['residuals'] = df['raw'] - df['model']\n",
    "        df['error'] = df['raw'] - df['forecast']\n",
    "        df['error_pct'] = df['error'] / df['raw']\n",
    "\n",
    "        # Measures\n",
    "        residuals_mean = df['residuals'].mean()\n",
    "        residuals_std = df['residuals'].std()\n",
    "        error_mean = df['error'].mean()\n",
    "        error_std = df['error'].std()\n",
    "        mae = df['error'].apply(lambda x: np.abs(x)).mean()\n",
    "        mape = df['error_pct'].apply(lambda x: np.abs(x)).mean()\n",
    "        mse = df['error'].apply(lambda x: x**2).mean()\n",
    "        rmse = np.sqrt(mse)\n",
    "\n",
    "        ## Intervals\n",
    "        df['conf_int_low'] = df['forecast'] - 1.96*residuals_std\n",
    "        df['conf_int_up'] = df['forecast'] + 1.96*residuals_std\n",
    "        df['pred_int_low'] = df['forecast'] - 1.96*error_std\n",
    "        df['pred_int_up'] = df['forecast'] + 1.96*error_std\n",
    "\n",
    "        ## Plot\n",
    "        if plot==True:\n",
    "            fig = plt.figure(figsize=figsize)\n",
    "            fig.suptitle(title, fontsize=20)   \n",
    "            ax1 = fig.add_subplot(2,2, 1)\n",
    "            ax2 = fig.add_subplot(2,2, 2, sharey=ax1)\n",
    "            ax3 = fig.add_subplot(2,2, 3)\n",
    "            ax4 = fig.add_subplot(2,2, 4)\n",
    "            \n",
    "            ### Training\n",
    "            df[pd.notnull(df[\"model\"])][[\"raw\",\"model\"]].plot(color=[\"black\",\"green\"], title=\"Model\", grid=True, ax=ax1)      \n",
    "            ax1.set(xlabel=None)\n",
    "            \n",
    "            ### Test\n",
    "            df[pd.isnull(df[\"model\"])][[\"raw\",\"forecast\"]].plot(color=[\"black\",\"red\"], title=\"Forecast\", grid=True, ax=ax2)\n",
    "            ax2.fill_between(x=df.index, y1=df['pred_int_low'], y2=df['pred_int_up'], color='b', alpha=0.2)\n",
    "            ax2.fill_between(x=df.index, y1=df['conf_int_low'], y2=df['conf_int_up'], color='b', alpha=0.3)     \n",
    "            ax2.set(xlabel=None)\n",
    "            \n",
    "            ### Residuals\n",
    "            df[[\"residuals\",\"error\"]].plot(ax=ax3, color=[\"green\",\"red\"], title=\"Residuals\", grid=True)\n",
    "            ax3.set(xlabel=None)\n",
    "            \n",
    "            ### Residuals distribution\n",
    "            df[[\"residuals\",\"error\"]].plot(ax=ax4, color=[\"green\",\"red\"], kind='kde', title=\"Residuals Distribution\", grid=True)\n",
    "            ax4.set(ylabel=None)\n",
    "            plt.show()\n",
    "            print(\"Training --> Residuals mean:\", np.round(residuals_mean), \" | std:\", np.round(residuals_std))\n",
    "            print(\"Test --> Error mean:\", np.round(error_mean), \" | std:\", np.round(error_std),\n",
    "                  \" | mae:\",np.round(mae), \" | mape:\",np.round(mape*100), \"%  | mse:\",np.round(mse), \" | rmse:\",np.round(rmse))\n",
    "\n",
    "        return df[[\"raw\",\"model\",\"residuals\",\"conf_int_low\",\"conf_int_up\", \n",
    "                    \"forecast\",\"error\",\"pred_int_low\",\"pred_int_up\"]]\n",
    "    except Exception as e:\n",
    "        print(\"--- Unexpected error occured ---\")\n",
    "        print(e)"
   ]
  }
 ],
 "metadata": {
  "interpreter": {
   "hash": "cf648860bb4815a86c03cfa4448c1639520d3627630d65083d8a7687bc6f15db"
  },
  "kernelspec": {
   "display_name": "Python 3.9.7 64-bit ('Sales_Application': conda)",
   "language": "python",
   "name": "python3"
  },
  "language_info": {
   "codemirror_mode": {
    "name": "ipython",
    "version": 3
   },
   "file_extension": ".py",
   "mimetype": "text/x-python",
   "name": "python",
   "nbconvert_exporter": "python",
   "pygments_lexer": "ipython3",
   "version": "3.9.7"
  },
  "orig_nbformat": 4
 },
 "nbformat": 4,
 "nbformat_minor": 2
}
